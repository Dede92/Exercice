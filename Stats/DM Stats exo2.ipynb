{
 "cells": [
  {
   "cell_type": "code",
   "execution_count": 6,
   "metadata": {
    "collapsed": true
   },
   "outputs": [],
   "source": [
    "import statsmodels.api as sm\n",
    "import pandas as pd\n",
    "import numpy as np\n",
    "from sklearn import linear_model, preprocessing, utils\n",
    "from scipy.stats import t\n",
    "import matplotlib.pyplot as plt\n",
    "import math"
   ]
  },
  {
   "cell_type": "code",
   "execution_count": 114,
   "metadata": {
    "collapsed": false
   },
   "outputs": [
    {
     "name": "stdout",
     "output_type": "stream",
     "text": [
      "[array([  7.05291792, -19.024609  ,  13.82584031,  -4.01425118,   1.06018357]), array([  4.98806508, -16.7678055 ,  19.79139059,  -4.83589267,   0.86394976])]\n",
      "[[7.0529179163920528, 4.9880650760269134], [-19.024609000206695, -16.767805495697733], [13.825840305275134, 19.79139058691586], [-4.0142511805794658, -4.8358926651185232], [1.06018356570473, 0.86394975955707132]]\n"
     ]
    }
   ],
   "source": [
    "# 1\n",
    "\n",
    "data_set = sm.datasets.get_rdataset('airquality')\n",
    "df = data_set.data\n",
    "# data_set.dropna(inplace=True)\n",
    "df_clean = df.dropna()\n",
    "\n",
    "# print sample\n",
    "regr = linear_model.LinearRegression()\n",
    "# Train the model using the training sets\n",
    "thetaList = []\n",
    "interList= []\n",
    "N = 2\n",
    "for i in range(N):\n",
    "    sample = utils.resample(df_clean)\n",
    "    Y_train = sample.ix[:,0]\n",
    "    X_train = sample.ix[:,1:6]\n",
    "    X_train_scaled = preprocessing.scale(X_train)\n",
    "    regr.fit(X_train_scaled, Y_train)\n",
    "    interList.append(regr.intercept_)\n",
    "    thetaList.append(regr.coef_)\n",
    "\n",
    "print thetaList\n",
    "thetaMeanList = []\n",
    "thetaMeanList.append([])\n",
    "thetaMeanList.append([])\n",
    "thetaMeanList.append([])\n",
    "thetaMeanList.append([])\n",
    "thetaMeanList.append([])\n",
    "\n",
    "for i in range(N):\n",
    "    for j in range(5):\n",
    "        thetaMeanList[j].append(thetaList[i][j])\n",
    "\n",
    "    \n",
    "print thetaMeanList\n",
    "\n"
   ]
  },
  {
   "cell_type": "code",
   "execution_count": 88,
   "metadata": {
    "collapsed": false
   },
   "outputs": [
    {
     "name": "stdout",
     "output_type": "stream",
     "text": [
      "(-2.6234654952309966, 2.6234654952309966)\n",
      "(-1.9828152737371543, 1.9828152737371543)\n"
     ]
    }
   ],
   "source": [
    "# 2 \n",
    "\n",
    "alpha = 0.01\n",
    "thetaMean\n",
    "interStud = t.interval(1-alpha, n - p - 1)\n",
    "\n"
   ]
  }
 ],
 "metadata": {
  "kernelspec": {
   "display_name": "Python 2",
   "language": "python",
   "name": "python2"
  },
  "language_info": {
   "codemirror_mode": {
    "name": "ipython",
    "version": 2
   },
   "file_extension": ".py",
   "mimetype": "text/x-python",
   "name": "python",
   "nbconvert_exporter": "python",
   "pygments_lexer": "ipython2",
   "version": "2.7.10"
  }
 },
 "nbformat": 4,
 "nbformat_minor": 0
}
