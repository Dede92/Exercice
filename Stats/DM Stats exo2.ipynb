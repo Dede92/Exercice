{
 "cells": [
  {
   "cell_type": "code",
   "execution_count": 222,
   "metadata": {
    "collapsed": true
   },
   "outputs": [],
   "source": [
    "import statsmodels.api as sm\n",
    "import pandas as pd\n",
    "import numpy as np\n",
    "from sklearn import linear_model, preprocessing, utils\n",
    "from scipy.stats import t\n",
    "import matplotlib.pyplot as plt\n",
    "import math"
   ]
  },
  {
   "cell_type": "code",
   "execution_count": 225,
   "metadata": {
    "collapsed": false
   },
   "outputs": [
    {
     "name": "stdout",
     "output_type": "stream",
     "text": [
      "############\n",
      "Raw Output\n",
      "############\n",
      "[ 0.05027432 -3.31844386  1.89578642 -3.03995664  0.27387752]\n",
      "-64.1163211033\n",
      "############\n",
      "Bootstrap\n",
      "############\n",
      "mean theta: [  4.55888501 -11.92604228  17.83042074  -4.42138146   2.27678347] mean intercept: 42.2634954955\n",
      "median theta: [  4.50337682 -11.92791992  17.90696721  -4.33874375   2.19630484] median intercept: 42.3153153153\n"
     ]
    }
   ],
   "source": [
    "# 1\n",
    "\n",
    "data_set = sm.datasets.get_rdataset('airquality')\n",
    "df = data_set.data\n",
    "# data_set.dropna(inplace=True)\n",
    "df_clean = df.dropna()\n",
    "\n",
    "# print sample\n",
    "\n",
    "# Train the model using the training sets\n",
    "\n",
    "Y_trainv1 = df_clean.ix[:,0]\n",
    "X_trainv1= df_clean.ix[:,1:6]\n",
    "# X_trainv1 = sm.add_constant(X_trainv1)\n",
    "\n",
    "# results = sm.OLS(Y_trainv1, X_trainv1).fit().params\n",
    "# print results\n",
    "\n",
    "regr = linear_model.LinearRegression()    \n",
    "regr.fit(X_trainv1, Y_trainv1)\n",
    "print '############'\n",
    "print 'Raw Output'\n",
    "print '############'\n",
    "print regr.coef_\n",
    "print regr.intercept_\n",
    "\n",
    "# N = 10000\n",
    "\n",
    "def bootstrap(N):\n",
    "    NumberOfX = 5\n",
    "    interList= []\n",
    "    thetaList = [[] for _ in range(NumberOfX)]\n",
    "\n",
    "    for i in range(N):\n",
    "        sample = utils.resample(df_clean)\n",
    "        Y_train = sample.ix[:,0]\n",
    "        X_train = sample.ix[:,1:6]\n",
    "        X_train_scaled = preprocessing.scale(X_train)\n",
    "        regr.fit(X_train_scaled, Y_train)\n",
    "#         regr.fit(X_train, Y_train)\n",
    "        interList.append(regr.intercept_)\n",
    "        for i in range(len(regr.coef_)):\n",
    "            thetaList[i].append(regr.coef_[i])\n",
    "\n",
    "    thetaList= np.sort(thetaList, axis=1)\n",
    "    \n",
    "\n",
    "    return thetaList, interList\n",
    "\n",
    "def meanAndMedian(thetaList, interList):\n",
    "    thetaMeanList = [0 for _ in range(NumberOfX)]\n",
    "    interceptMeanList = []\n",
    "    thetaMedianList = [0 for _ in range(NumberOfX)]\n",
    "    interceptMedianList = []\n",
    "\n",
    "    thetaMeanList= np.mean(thetaList, axis=1)\n",
    "    interceptMeanList = np.mean(interList)\n",
    "\n",
    "    thetaMedianList = np.median(thetaList, axis=1)\n",
    "    interceptMedianList = np.median(interList)\n",
    "    \n",
    "    return thetaMeanList, interceptMeanList, thetaMedianList, interceptMedianList\n",
    "\n",
    "print '############'\n",
    "print 'Bootstrap'\n",
    "print '############'\n",
    "N = 500\n",
    "thetaList,interList = bootstrap(N)\n",
    "thetaMean, interMean, thetaMedian, interMedian = meanAndMedian(thetaList,interList)\n",
    "\n",
    "print \"mean theta: \" + str(thetaMean) +\" mean intercept: \" + str(interMean)\n",
    "print \"median theta: \" + str(thetaMedian) +\" median intercept: \" + str(interMedian)"
   ]
  },
  {
   "cell_type": "code",
   "execution_count": 226,
   "metadata": {
    "collapsed": false
   },
   "outputs": [
    {
     "name": "stdout",
     "output_type": "stream",
     "text": [
      "[-0.0718177909493; 9.57595431156]\n",
      "[-19.7419238574; -4.49690692364]\n",
      "[11.5991915809; 23.7050307416]\n",
      "[-9.31419750686; 0.647637694526]\n",
      "[-2.80570393148; 7.29607331642]\n",
      "[-2.80570393148; 7.29607331642]\n"
     ]
    }
   ],
   "source": [
    "# 2 \n",
    "\n",
    "alpha = 0.01\n",
    "\n",
    "# \n",
    "def quantileTheta(lis):\n",
    "    mini = np.percentile(thetaList, 0.5, axis=1)\n",
    "    maxi= np.percentile(thetaList, 99.5, axis=1)\n",
    "    return mini, maxi\n",
    "\n",
    "def quantileInter(lis):\n",
    "    mini = np.percentile(thetaList, 0.5)\n",
    "    maxi= np.percentile(thetaList, 99.5)\n",
    "    return mini, maxi\n",
    "\n",
    "miniT, maxiT = quantileTheta(thetaList)\n",
    "miniI, maxiI = quantileTheta(thetaList)\n",
    "\n",
    "for i in range(len(miniT)):\n",
    "    print '[' + str(miniT[i]) + '; ' + str(maxiT[i]) + ']'\n",
    "\n",
    "print '[' + str(miniI[i]) + '; ' + str(maxiI[i]) + ']'\n"
   ]
  },
  {
   "cell_type": "code",
   "execution_count": 227,
   "metadata": {
    "collapsed": false
   },
   "outputs": [
    {
     "name": "stdout",
     "output_type": "stream",
     "text": [
      "[-10.613507213702498, -20.924951859093682, -19.931024482547265, -19.859685880890552, -20.026559584864376, -19.568122123585489, -19.941757229430046, -20.238416558310568, -20.179865836061715, -19.889531080916292]\n",
      "[-10.613507213702498, -5.1019272749206035, -5.5347287012577118, -5.3245461791465605, -5.3449639414677268, -5.3728331269798044, -4.8831397116063098, -5.150807857860082, -5.1390185249800897, -4.8393260324939291]\n",
      "[-10.613507213702498, -11.441576400338674, -11.647041486192295, -11.590619898230599, -11.500604460734046, -11.536646426279797, -11.630343468083712, -11.541459399650602, -11.617528462622563, -11.663708746078763]\n"
     ]
    }
   ],
   "source": [
    "# 3\n",
    "\n",
    "courbeMini = []\n",
    "courbeMaxi = []\n",
    "courbeMedian = []\n",
    "for i in range(1, 5001, 500):\n",
    "    thetaList,interList = bootstrap(i)\n",
    "    thetaMean, interMean, thetaMedian, interMedian = meanAndMedian(thetaList,interList)\n",
    "    miniT, maxiT = quantileTheta(thetaList)\n",
    "    courbeMini.append(miniT[1])\n",
    "    courbeMaxi.append(maxiT[1])\n",
    "    courbeMedian.append(thetaMedian[1])\n",
    "\n",
    "print courbeMini\n",
    "print courbeMaxi\n",
    "print courbeMedian\n"
   ]
  },
  {
   "cell_type": "code",
   "execution_count": 237,
   "metadata": {
    "collapsed": false
   },
   "outputs": [
    {
     "data": {
      "text/plain": [
       "<matplotlib.legend.Legend at 0x7fb64b93c090>"
      ]
     },
     "execution_count": 237,
     "metadata": {},
     "output_type": "execute_result"
    },
    {
     "data": {
      "image/png": "[encoded data removed]",
      "text/plain": [
       "<matplotlib.figure.Figure at 0x7fb64b9b0dd0>"
      ]
     },
     "metadata": {},
     "output_type": "display_data"
    }
   ],
   "source": [
    "%matplotlib inline\n",
    "# affiche le graph à l'interieur de ipython\n",
    "xplot = np.linspace(1, 5001, 10)\n",
    "\n",
    "\n",
    "fig = plt.figure()\n",
    "\n",
    "# plt.plot(xplot, courbeMedian, '--',linewidth=2.0)\n",
    "plt.plot(xplot, courbeMini, 'b--', label=\"min\", linewidth=2.0)\n",
    "plt.plot(xplot, courbeMaxi, 'b--', label=\"max\", linewidth=2.0)\n",
    "plt.plot(xplot, courbeMedian, 'g', label=\"median\", linewidth=2.0)\n",
    "\n",
    "plt.title('Confidence Interval and Median for Wind parameter')\n",
    "plt.xlabel('B')\n",
    "plt.ylabel('y')\n",
    "\n",
    "plt.legend(frameon=True)\n",
    "# plt.show()"
   ]
  },
  {
   "cell_type": "code",
   "execution_count": 254,
   "metadata": {
    "collapsed": false
   },
   "outputs": [
    {
     "name": "stdout",
     "output_type": "stream",
     "text": [
      "{8: [141.24167564374329, -9.1685894985578749], 9: [74.187681854353286, -4.2417617172356099], 5: [58.40741423355184, -2.9799997885014271], 6: [8.9550261108736429, 1.6825252281216898], 7: [119.04413280455424, -7.0313513218339807]}\n"
     ]
    }
   ],
   "source": [
    "# 4\n",
    "\n",
    "\n",
    "\n",
    "# results = sm.OLS(Y_trainv1, X_trainv1).fit().params\n",
    "# print results\n",
    "\n",
    "data_set = sm.datasets.get_rdataset('airquality')\n",
    "df = data_set.data\n",
    "# data_set.dropna(inplace=True)\n",
    "df_clean = df.dropna()\n",
    "\n",
    "regr1 = linear_model.LinearRegression() \n",
    "\n",
    "monthDic = {}\n",
    "for i in range (1,13,1):\n",
    "    dfMonth = df_clean.loc[df_clean['Month'] == i]\n",
    "    if len(dfMonth) != 0:\n",
    "        y_train = dfMonth[['Ozone']]\n",
    "        x_train = dfMonth[['Wind']]\n",
    "        regr1.fit(x_train, y_train)\n",
    "        coef_temp = regr1.coef_[0][0]\n",
    "        inter_temp = regr1.intercept_[0]\n",
    "        monthDic[i] = [inter_temp, coef_temp]\n",
    "\n",
    "print monthDic\n"
   ]
  }
 ],
 "metadata": {
  "kernelspec": {
   "display_name": "Python 2",
   "language": "python",
   "name": "python2"
  },
  "language_info": {
   "codemirror_mode": {
    "name": "ipython",
    "version": 2
   },
   "file_extension": ".py",
   "mimetype": "text/x-python",
   "name": "python",
   "nbconvert_exporter": "python",
   "pygments_lexer": "ipython2",
   "version": "2.7.10"
  }
 },
 "nbformat": 4,
 "nbformat_minor": 0
}
