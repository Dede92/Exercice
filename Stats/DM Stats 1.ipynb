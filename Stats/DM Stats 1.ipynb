{
 "cells": [
  {
   "cell_type": "code",
   "execution_count": 12,
   "metadata": {
    "collapsed": false
   },
   "outputs": [],
   "source": [
    "import statsmodels.api as sm\n",
    "import pandas as pd\n",
    "import numpy as np\n",
    "from sklearn import linear_model, preprocessing\n",
    "from scipy import stats\n",
    "import scipy as s\n",
    "import matplotlib.pyplot as plt\n",
    "import math\n"
   ]
  },
  {
   "cell_type": "code",
   "execution_count": 3,
   "metadata": {
    "collapsed": false
   },
   "outputs": [],
   "source": [
    "\n",
    "# 2\n",
    "data_set = sm.datasets.get_rdataset('airquality')\n",
    "# df = pd.read_csv('https://dl.dropboxusercontent.com/u/6044937/Data%20Sets/airquality.csv', index_col=0)\n",
    "# print data_set.data\n"
   ]
  },
  {
   "cell_type": "code",
   "execution_count": 8,
   "metadata": {
    "collapsed": false
   },
   "outputs": [
    {
     "name": "stdout",
     "output_type": "stream",
     "text": [
      "     Ozone  Solar.R  Wind  Temp  Month  Day\n",
      "0       41      190   7.4    67      5    1\n",
      "1       36      118   8.0    72      5    2\n",
      "2       12      149  12.6    74      5    3\n",
      "3       18      313  11.5    62      5    4\n",
      "6       23      299   8.6    65      5    7\n",
      "7       19       99  13.8    59      5    8\n",
      "8        8       19  20.1    61      5    9\n",
      "11      16      256   9.7    69      5   12\n",
      "12      11      290   9.2    66      5   13\n",
      "13      14      274  10.9    68      5   14\n",
      "14      18       65  13.2    58      5   15\n",
      "15      14      334  11.5    64      5   16\n",
      "16      34      307  12.0    66      5   17\n",
      "17       6       78  18.4    57      5   18\n",
      "18      30      322  11.5    68      5   19\n",
      "19      11       44   9.7    62      5   20\n",
      "20       1        8   9.7    59      5   21\n",
      "21      11      320  16.6    73      5   22\n",
      "22       4       25   9.7    61      5   23\n",
      "23      32       92  12.0    61      5   24\n",
      "27      23       13  12.0    67      5   28\n",
      "28      45      252  14.9    81      5   29\n",
      "29     115      223   5.7    79      5   30\n",
      "30      37      279   7.4    76      5   31\n",
      "37      29      127   9.7    82      6    7\n",
      "39      71      291  13.8    90      6    9\n",
      "40      39      323  11.5    87      6   10\n",
      "43      23      148   8.0    82      6   13\n",
      "46      21      191  14.9    77      6   16\n",
      "47      37      284  20.7    72      6   17\n",
      "..     ...      ...   ...   ...    ...  ...\n",
      "122     85      188   6.3    94      8   31\n",
      "123     96      167   6.9    91      9    1\n",
      "124     78      197   5.1    92      9    2\n",
      "125     73      183   2.8    93      9    3\n",
      "126     91      189   4.6    93      9    4\n",
      "127     47       95   7.4    87      9    5\n",
      "128     32       92  15.5    84      9    6\n",
      "129     20      252  10.9    80      9    7\n",
      "130     23      220  10.3    78      9    8\n",
      "131     21      230  10.9    75      9    9\n",
      "132     24      259   9.7    73      9   10\n",
      "133     44      236  14.9    81      9   11\n",
      "134     21      259  15.5    76      9   12\n",
      "135     28      238   6.3    77      9   13\n",
      "136      9       24  10.9    71      9   14\n",
      "137     13      112  11.5    71      9   15\n",
      "138     46      237   6.9    78      9   16\n",
      "139     18      224  13.8    67      9   17\n",
      "140     13       27  10.3    76      9   18\n",
      "141     24      238  10.3    68      9   19\n",
      "142     16      201   8.0    82      9   20\n",
      "143     13      238  12.6    64      9   21\n",
      "144     23       14   9.2    71      9   22\n",
      "145     36      139  10.3    81      9   23\n",
      "146      7       49  10.3    69      9   24\n",
      "147     14       20  16.6    63      9   25\n",
      "148     30      193   6.9    70      9   26\n",
      "150     14      191  14.3    75      9   28\n",
      "151     18      131   8.0    76      9   29\n",
      "152     20      223  11.5    68      9   30\n",
      "\n",
      "[111 rows x 6 columns]\n"
     ]
    }
   ],
   "source": [
    "\n",
    "# 3\n",
    "\n",
    "df = data_set.data\n",
    "# data_set.dropna(inplace=True)\n",
    "df_clean = df.dropna()\n",
    "\n",
    "print df_clean"
   ]
  },
  {
   "cell_type": "code",
   "execution_count": 5,
   "metadata": {
    "collapsed": false
   },
   "outputs": [
    {
     "data": {
      "text/plain": [
       "LinearRegression(copy_X=True, fit_intercept=True, n_jobs=1, normalize=False)"
      ]
     },
     "execution_count": 5,
     "metadata": {},
     "output_type": "execute_result"
    }
   ],
   "source": [
    "# 4\n",
    "# ozone_train = []\n",
    "# for data in data_df['Ozone']:\n",
    "# \tozone_train.append([data])\n",
    "    \n",
    "# solarR_train = []\n",
    "# for data in data_df['Solar.R']:\n",
    "# \tsolarR_train.append([data])\n",
    "\n",
    "ozone_train = df_clean[['Ozone']]\n",
    "explVariables_train = df_clean.drop('Ozone', 1)\n",
    "\n",
    "# Centrée réduit\n",
    "\n",
    "# ozone_scaled = (ozone_train - np.mean(ozone_train))/np.std(ozone_train)\n",
    "# explVariables_scaled = (explVariables_train - np.mean(explVariables_train))/np.std(explVariables_train)\n",
    "ozone_scaled = preprocessing.scale(ozone_train)\n",
    "explVariables_scaled = preprocessing.scale(explVariables_train)\n",
    "\n",
    "# Create linear regression object\n",
    "regr = linear_model.LinearRegression()\n",
    "# Train the model using the training sets\n",
    "regr.fit(explVariables_scaled, ozone_scaled)\n"
   ]
  },
  {
   "cell_type": "code",
   "execution_count": 6,
   "metadata": {
    "collapsed": false
   },
   "outputs": [
    {
     "name": "stdout",
     "output_type": "stream",
     "text": [
      "Coef: [[ 0.1377156  -0.35479273  0.54293794 -0.1346069   0.07166447]]\n",
      "Intercept: [  3.06535695e-16]\n",
      "Sigma carre: 0.396491155022\n"
     ]
    }
   ],
   "source": [
    "# 5\n",
    "coef = regr.coef_\n",
    "intercept = regr.intercept_\n",
    "\n",
    "print 'Coef: ' + str(coef)\n",
    "print 'Intercept: ' + str(intercept)\n",
    "\n",
    "ozoneP = regr.predict(explVariables_scaled)\n",
    "\n",
    "# print 'ozonePredict: ' + str(ozoneP)\n",
    "\n",
    "residual = np.subtract(ozone_scaled, ozoneP)\n",
    "# print np.sqrt(np.sum(residual*residual))\n",
    "# matrix rank\n",
    "p = np.linalg.matrix_rank(explVariables_scaled)\n",
    "# number of explicative variable\n",
    "n=len(residual)\n",
    "                          \n",
    "sigmaCarre = (np.sum(residual*residual) / (n- p - 1))\n",
    "\n",
    "print 'Sigma carre: ' + str(sigmaCarre)"
   ]
  },
  {
   "cell_type": "code",
   "execution_count": 26,
   "metadata": {
    "collapsed": false
   },
   "outputs": [
    {
     "name": "stdout",
     "output_type": "stream",
     "text": [
      "(array([-0.06299116]), array([ 0.06299116]))\n",
      "(array([-0.06299116]), array([ 0.06299116]))\n"
     ]
    }
   ],
   "source": [
    "# 6\n",
    "alpha = 0.99\n",
    "\n",
    "# stud = t.interval(1-alpha, len(ozoneP) * 1.0 - np.linalg.matrix_rank(explVariables_scaled))\n",
    "# IC = coef[0] - stud[0] * np.sqrt(sigmaCarre) * np.sqrt(explVariables_scaled[0].transpose()*explVariables_scaled[0])\n",
    "# print IC\n",
    "s1 = preprocessing.scale(df_clean[['Solar.R']])\n",
    "n, min_max, mean, var1, skew, kurt = stats.describe(s1)\n",
    "std1=math.sqrt(var1)\n",
    " \n",
    "#note these are sample standard deviations \n",
    "#and sample variance values\n",
    "#to get population values s.std() and s.var() will work\n",
    " \n",
    " \n",
    "#The location (loc) keyword specifies the mean.\n",
    "#The scale (scale) keyword specifies the standard deviation.\n",
    " \n",
    "# We will assume a normal distribution\n",
    "R1 = stats.norm.interval(0.05,loc=mean,scale=std1)\n",
    "print R1\n",
    "\n",
    "# Wind  Temp  Month  Day\n",
    "\n",
    "s2 = preprocessing.scale(df_clean[['Wind']])\n",
    "n, min_max, mean, var2, skew, kurt = stats.describe(s2)\n",
    "std2=math.sqrt(var2)\n",
    "R2 = stats.norm.interval(0.05,loc=mean,scale=std2)\n",
    "print R2\n",
    "\n",
    "# s3 = preprocessing.scale(df_clean[['Temp']])\n",
    "# n, min_max, mean, var3, skew, kurt = stats.describe(s3)\n",
    "# std3=math.sqrt(var3)\n",
    "# R3 = stats.norm.interval(0.05,loc=mean,scale=std3)\n",
    "# print R3\n",
    "\n",
    "# s4 = preprocessing.scale(df_clean[['Month']])\n",
    "# n, min_max, mean, var4, skew, kurt = stats.describe(s4)\n",
    "# std4=math.sqrt(var4)\n",
    "# R4 = stats.norm.interval(0.05,loc=mean,scale=std4)\n",
    "# print R4\n",
    "\n",
    "# s5 = preprocessing.scale(df_clean[['Day']])\n",
    "# n, min_max, mean, var5, skew, kurt = stats.describe(s5)\n",
    "# std5=math.sqrt(var5)\n",
    "# R5 = stats.norm.interval(0.05,loc=mean,scale=std5)\n",
    "# print R5"
   ]
  },
  {
   "cell_type": "code",
   "execution_count": null,
   "metadata": {
    "collapsed": false
   },
   "outputs": [],
   "source": [
    "\n"
   ]
  }
 ],
 "metadata": {
  "kernelspec": {
   "display_name": "Python 2",
   "language": "python",
   "name": "python2"
  },
  "language_info": {
   "codemirror_mode": {
    "name": "ipython",
    "version": 2
   },
   "file_extension": ".py",
   "mimetype": "text/x-python",
   "name": "python",
   "nbconvert_exporter": "python",
   "pygments_lexer": "ipython2",
   "version": "2.7.10"
  }
 },
 "nbformat": 4,
 "nbformat_minor": 0
}
