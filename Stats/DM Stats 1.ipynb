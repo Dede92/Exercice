{
 "cells": [
  {
   "cell_type": "code",
   "execution_count": 90,
   "metadata": {
    "collapsed": false
   },
   "outputs": [
    {
     "name": "stdout",
     "output_type": "stream",
     "text": [
      "StandardScaler(copy=True, with_mean=True, with_std=True)\n",
      "Coef: [[ 0.05027432 -3.31844386  1.89578642 -3.03995664  0.27387752]]\n",
      "Intercept: [-64.1163211]\n",
      "415.299336129\n"
     ]
    }
   ],
   "source": [
    "import statsmodels.api as sm\n",
    "import pandas as pd\n",
    "import numpy as np\n",
    "from sklearn import linear_model\n",
    "from sklearn import preprocessing\n",
    "\n",
    "\n",
    "# 2\n",
    "data_set = sm.datasets.get_rdataset('airquality')\n",
    "# df = pd.read_csv('https://dl.dropboxusercontent.com/u/6044937/Data%20Sets/airquality.csv', index_col=0)\n",
    "# print data_set.data\n",
    "\n",
    "# 3\n",
    "\n",
    "data_df = data_set.data\n",
    "# data_set.dropna(inplace=True)\n",
    "data_df_cleaned = data_df.dropna()\n",
    "scaler = preprocessing.StandardScaler().fit(data_df_cleaned)\n",
    "print scaler\n",
    "# print data_df_cleaned\n",
    "\n",
    "# 4\n",
    "# ozone_train = []\n",
    "# for data in data_df['Ozone']:\n",
    "# \tozone_train.append([data])\n",
    "    \n",
    "# solarR_train = []\n",
    "# for data in data_df['Solar.R']:\n",
    "# \tsolarR_train.append([data])\n",
    "\n",
    "ozone = data_df_cleaned[['Ozone']]\n",
    "othersVariable = data_df_cleaned.drop('Ozone', 1)\n",
    "\n",
    "# Create linear regression object\n",
    "regr = linear_model.LinearRegression()\n",
    "# Train the model using the training sets\n",
    "regr.fit(othersVariable, ozone)\n",
    "\n",
    "coef = regr.coef_\n",
    "intercept = regr.intercept_\n",
    "\n",
    "print 'Coef: ' + str(coef)\n",
    "print 'Intercept: ' + str(intercept)\n",
    "\n",
    "ozoneP = regr.predict(othersVariable)\n",
    "\n",
    "# print 'ozonePredict: ' + str(ozoneP)\n",
    "\n",
    "residual = np.subtract(ozone, ozoneP)\n",
    "# print residual\n",
    "\n",
    "sigmaCarre = (np.sum(residual*residual) / (len(residual) - 1))[0]\n",
    "\n",
    "print sigmaCarre\n",
    "\n",
    "# 6\n",
    "\n",
    "sigma = np.sqrt(sigmaCarre)\n",
    "confidence = .99\n",
    "\n",
    "confidenceCoeff = .99 / 2.0\n",
    "\n"
   ]
  },
  {
   "cell_type": "code",
   "execution_count": null,
   "metadata": {
    "collapsed": true
   },
   "outputs": [],
   "source": []
  }
 ],
 "metadata": {
  "kernelspec": {
   "display_name": "Python 2",
   "language": "python",
   "name": "python2"
  },
  "language_info": {
   "codemirror_mode": {
    "name": "ipython",
    "version": 2
   },
   "file_extension": ".py",
   "mimetype": "text/x-python",
   "name": "python",
   "nbconvert_exporter": "python",
   "pygments_lexer": "ipython2",
   "version": "2.7.10"
  }
 },
 "nbformat": 4,
 "nbformat_minor": 0
}
