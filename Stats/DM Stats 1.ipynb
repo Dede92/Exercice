{
 "cells": [
  {
   "cell_type": "code",
   "execution_count": 1,
   "metadata": {
    "collapsed": false
   },
   "outputs": [],
   "source": [
    "import statsmodels.api as sm\n",
    "import pandas as pd\n",
    "import numpy as np\n",
    "from sklearn import linear_model, preprocessing\n",
    "from scipy.stats import t\n",
    "import matplotlib.pyplot as plt\n"
   ]
  },
  {
   "cell_type": "code",
   "execution_count": 2,
   "metadata": {
    "collapsed": true
   },
   "outputs": [],
   "source": [
    "\n",
    "# 2\n",
    "data_set = sm.datasets.get_rdataset('airquality')\n",
    "# df = pd.read_csv('https://dl.dropboxusercontent.com/u/6044937/Data%20Sets/airquality.csv', index_col=0)\n",
    "# print data_set.data\n"
   ]
  },
  {
   "cell_type": "code",
   "execution_count": 3,
   "metadata": {
    "collapsed": false
   },
   "outputs": [],
   "source": [
    "\n",
    "# 3\n",
    "\n",
    "df = data_set.data\n",
    "# data_set.dropna(inplace=True)\n",
    "df_clean = df.dropna()\n",
    "\n",
    "# print df_clean"
   ]
  },
  {
   "cell_type": "code",
   "execution_count": 4,
   "metadata": {
    "collapsed": false
   },
   "outputs": [
    {
     "data": {
      "text/plain": [
       "LinearRegression(copy_X=True, fit_intercept=True, n_jobs=1, normalize=False)"
      ]
     },
     "execution_count": 4,
     "metadata": {},
     "output_type": "execute_result"
    }
   ],
   "source": [
    "# 4\n",
    "# ozone_train = []\n",
    "# for data in data_df['Ozone']:\n",
    "# \tozone_train.append([data])\n",
    "    \n",
    "# solarR_train = []\n",
    "# for data in data_df['Solar.R']:\n",
    "# \tsolarR_train.append([data])\n",
    "\n",
    "ozone_train = df_clean[['Ozone']]\n",
    "explVariables_train = df_clean.drop('Ozone', 1)\n",
    "\n",
    "# Centrée réduit\n",
    "\n",
    "# ozone_scaled = (ozone_train - np.mean(ozone_train))/np.std(ozone_train)\n",
    "# explVariables_scaled = (explVariables_train - np.mean(explVariables_train))/np.std(explVariables_train)\n",
    "ozone_scaled = preprocessing.scale(ozone_train)\n",
    "explVariables_scaled = preprocessing.scale(explVariables_train)\n",
    "\n",
    "# Create linear regression object\n",
    "regr = linear_model.LinearRegression()\n",
    "# Train the model using the training sets\n",
    "regr.fit(explVariables_scaled, ozone_scaled)\n"
   ]
  },
  {
   "cell_type": "code",
   "execution_count": 23,
   "metadata": {
    "collapsed": false
   },
   "outputs": [
    {
     "name": "stdout",
     "output_type": "stream",
     "text": [
      "Coef: [[ 0.1377156  -0.35479273  0.54293794 -0.1346069   0.07166447]]\n",
      "Intercept: [  3.06535695e-16]\n",
      "Sigma carre: 0.396491155022\n"
     ]
    }
   ],
   "source": [
    "# 5\n",
    "coef = regr.coef_\n",
    "intercept = regr.intercept_\n",
    "\n",
    "print 'Coef: ' + str(coef)\n",
    "print 'Intercept: ' + str(intercept)\n",
    "\n",
    "ozoneP = regr.predict(explVariables_scaled)\n",
    "\n",
    "# print 'ozonePredict: ' + str(ozoneP)\n",
    "\n",
    "residual = np.subtract(ozone_scaled, ozoneP)\n",
    "# print np.sqrt(np.sum(residual*residual))\n",
    "# matrix rank\n",
    "p = np.linalg.matrix_rank(explVariables_scaled)\n",
    "# number of explicative variable\n",
    "n=len(residual)\n",
    "                          \n",
    "sigmaCarre = (np.sum(residual*residual) / (n- p - 1))\n",
    "\n",
    "print 'Sigma carre: ' + str(sigmaCarre)"
   ]
  },
  {
   "cell_type": "code",
   "execution_count": 21,
   "metadata": {
    "collapsed": false
   },
   "outputs": [
    {
     "name": "stdout",
     "output_type": "stream",
     "text": [
      "[ 0.39801309  0.39801309]\n",
      "[ 0.13816877 -0.34912017  0.55193748 -0.12265439  0.08530474]\n"
     ]
    }
   ],
   "source": [
    "# 6\n",
    "alpha = 0.99\n",
    "\n",
    "stud = t.interval(1-alpha, len(ozoneP) * 1.0 - np.linalg.matrix_rank(explVariables_scaled))\n",
    "\n",
    "print t.pdf(stud, len(ozoneP))\n",
    "\n",
    "IC = coef[0] - stud[0] * np.sqrt(sigmaCarre) * np.sqrt(explVariables_scaled[0].transpose()*explVariables_scaled[0])\n",
    "\n",
    "print IC\n"
   ]
  },
  {
   "cell_type": "code",
   "execution_count": null,
   "metadata": {
    "collapsed": false
   },
   "outputs": [],
   "source": [
    "\n"
   ]
  }
 ],
 "metadata": {
  "kernelspec": {
   "display_name": "Python 2",
   "language": "python",
   "name": "python2"
  },
  "language_info": {
   "codemirror_mode": {
    "name": "ipython",
    "version": 2
   },
   "file_extension": ".py",
   "mimetype": "text/x-python",
   "name": "python",
   "nbconvert_exporter": "python",
   "pygments_lexer": "ipython2",
   "version": "2.7.10"
  }
 },
 "nbformat": 4,
 "nbformat_minor": 0
}
